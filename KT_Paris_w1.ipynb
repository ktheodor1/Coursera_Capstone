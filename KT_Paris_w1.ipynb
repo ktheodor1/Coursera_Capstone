{
 "cells": [
  {
   "cell_type": "markdown",
   "metadata": {},
   "source": [
    "# Applied Data Science Capstone: Neighborhoods and Real Estate Analysis in Paris"
   ]
  },
  {
   "cell_type": "markdown",
   "metadata": {},
   "source": [
    "## Introduction/Business Problem\n",
    "\n",
    "The city of Paris is home to more than 2 million people, famous for its cuisine, arts, fashion, museums and iconic landmarks. The real estate market attracts not only locals but also foreign investors, while more recently Brexit has further increased activity – it’s a seller’s market.\n",
    "\n",
    "When looking to buy an apartment, budget and other considerations may force one to venture into unknown neighbourhoods and parts of the city. Getting a feel for the new location and what will be in the vicinity of a new home before committing financially is thus extremely important. Transport links, parks and sports grounds, schools, health care, shopping centres, restaurants, culture and nightlife are only some of the aspects one will wish to consider attributing different significance based on life stage. \n",
    "\n",
    "This project aims to cluster neighbourhoods around Paris from a real estate perspective while incorporating information on current prices per square meter.  In other words, potential buyers should be able to spot similar neighbourhoods in terms of living standards ordered by price.\n"
   ]
  },
  {
   "cell_type": "markdown",
   "metadata": {},
   "source": [
    "Data \n",
    "The following datasets and sources will be used for the completion of the capstone:\n",
    "\n",
    "1: The administrative neighbourhoods and districts of Paris (quartiers and arrondissements) are made available by opendata.paris.fr in various geographical formats.  There are 20 districts comprising 80 neighborhoods https://opendata.paris.fr/explore/dataset/quartier_paris/information/\n",
    "\n",
    "2. Centroids of the Paris neighbourhoods were complemented by using additional geocoding services of the geopy python package e.g ArcGIS, Nominatim etc.\n",
    "\n",
    "3: Real estate prices in thousands of euro per square meter by neighbourhood were scraped from a recent article published on 23/05/2019 (http://www.leparisien.fr/economie/immobilier/prix-de-l-immobilier-le-projet-du-grand-paris-bouleverse-le-foncier-francilien-23-05-2019-8077890.php). The original source and provider is http://www.meilleursagents.com/ a company that specialises in real estate price estimation in France keeping up to date with developments, providing advice and analysis in a data driven manner.\n",
    "\n",
    "4. Venue information around neighbourhood centroids was extracted via the free version of the Foursquare Places API.\n"
   ]
  }
 ],
 "metadata": {
  "kernelspec": {
   "display_name": "Python 3",
   "language": "python",
   "name": "python3"
  },
  "language_info": {
   "codemirror_mode": {
    "name": "ipython",
    "version": 3
   },
   "file_extension": ".py",
   "mimetype": "text/x-python",
   "name": "python",
   "nbconvert_exporter": "python",
   "pygments_lexer": "ipython3",
   "version": "3.6.8"
  }
 },
 "nbformat": 4,
 "nbformat_minor": 2
}
